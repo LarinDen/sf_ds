{
 "cells": [
  {
   "cell_type": "markdown",
   "metadata": {},
   "source": [
    "# ЗАДАНИЕ 2.3\n",
    "\n",
    "Напишите функцию delete_columns(df, col=[]), которая удаляет столбцы из DataFrame и возвращает новую таблицу. Если одного из указанных столбцов не существует в таблице, то функция должна возвращать None. Удалите выбранные вами столбцы из таблицы customer_df.\n",
    "\n",
    "Подсказка\n",
    "Для удаления столбцов используется метод drop() с параметром axis=1. В него передаётся список столбцов, подлежащих удалению."
   ]
  },
  {
   "cell_type": "code",
   "execution_count": 1,
   "metadata": {},
   "outputs": [
    {
     "name": "stdout",
     "output_type": "stream",
     "text": [
      "   number  cust_id  cust_age  cust_sale  cust_year_birth  cust_order\n",
      "0       0      128        13       0.00             2008        1400\n",
      "1       1     1201        21       0.00             2000       14142\n",
      "2       2     9832        19       0.20             2002         900\n",
      "3       3     4392        21       0.15             2000        1240\n",
      "4       4     7472        60       0.30             1961        8430\n",
      "   cust_id  cust_sale  cust_year_birth  cust_order\n",
      "0      128       0.00             2008        1400\n",
      "1     1201       0.00             2000       14142\n",
      "2     9832       0.20             2002         900\n",
      "3     4392       0.15             2000        1240\n",
      "4     7472       0.30             1961        8430\n",
      "   number  cust_id  cust_age  cust_sale  cust_year_birth  cust_order\n",
      "0       0      128        13       0.00             2008        1400\n",
      "1       1     1201        21       0.00             2000       14142\n",
      "2       2     9832        19       0.20             2002         900\n",
      "3       3     4392        21       0.15             2000        1240\n",
      "4       4     7472        60       0.30             1961        8430\n"
     ]
    }
   ],
   "source": [
    "import pandas as pd\n",
    "\n",
    "def delete_columns(df, col=[]):\n",
    "    \"\"\"\n",
    "    Напишите функцию delete_columns(df, col=[]), которая удаляет столбцы из DataFrame и возвращает новую таблицу. \n",
    "    Если одного из указанных столбцов в таблице не существует, то функция должна возвращать None.\n",
    "    \"\"\"\n",
    "    \n",
    "    for c in col:\n",
    "        if c not in df.columns:\n",
    "            return None\n",
    "    return df.drop(col, axis = 1)\n",
    "\n",
    "\n",
    "if __name__ == '__main__':\n",
    "    customer_df = pd.DataFrame({\n",
    "        'number': [0, 1, 2, 3, 4],\n",
    "        'cust_id': [128, 1201, 9832, 4392, 7472],\n",
    "        'cust_age': [13, 21, 19, 21, 60],\n",
    "        'cust_sale': [0, 0, 0.2, 0.15, 0.3],\n",
    "        'cust_year_birth': [2008, 2000, 2002, 2000, 1961],\n",
    "        'cust_order': [1400, 14142, 900, 1240, 8430]\n",
    "    })\n",
    "    columns_for_delete= ['number', 'cust_age'] #выбранные вами столбцы\n",
    "    print(customer_df)\n",
    "    new_df = delete_columns(customer_df, columns_for_delete)\n",
    "    print(new_df)\n",
    "    print(customer_df)"
   ]
  },
  {
   "cell_type": "markdown",
   "metadata": {},
   "source": [
    "# Задание 2.4\n",
    "Задан DataFrame countries_df, содержащий следующие столбцы: название страны, население (population) в миллионах человек и площадь страны (square) в квадратных километрах.\n",
    "countries_df = pd.DataFrame({\n",
    "    'country': ['Англия', 'Канада', 'США', 'Россия', 'Украина', 'Беларусь', 'Казахстан'],\n",
    "    'population': [56.29, 38.05, 322.28, 146.24, 45.5, 9.5, 17.04],\n",
    "    'square': [133396, 9984670, 9826630, 17125191, 603628, 207600, 2724902]\n",
    "})\n",
    "Рассчитайте среднюю плотность населения представленных стран (количество человек на квадратный километр). Ответ округлите до сотых.\n",
    "\n",
    "Плотность населения рассчитывается как количество человек, проживающих на территории отдельной страны, делённое на площадь этой страны. Обратите внимание, что население в таблице представлено в миллионах."
   ]
  },
  {
   "cell_type": "code",
   "execution_count": 3,
   "metadata": {},
   "outputs": [
    {
     "data": {
      "text/plain": [
       "0    421.976671\n",
       "1      3.810842\n",
       "2     32.796595\n",
       "3      8.539467\n",
       "4     75.377550\n",
       "5     45.761079\n",
       "6      6.253436\n",
       "dtype: float64"
      ]
     },
     "metadata": {},
     "output_type": "display_data"
    },
    {
     "name": "stdout",
     "output_type": "stream",
     "text": [
      "84.93\n"
     ]
    }
   ],
   "source": [
    "import pandas as pd\n",
    "\n",
    "countries_df = pd.DataFrame({\n",
    "    'country': ['Англия', 'Канада', 'США', 'Россия', 'Украина', 'Беларусь', 'Казахстан'],\n",
    "    'population': [56.29, 38.05, 322.28, 146.24, 45.5, 9.5, 17.04],\n",
    "    'square': [133396, 9984670, 9826630, 17125191, 603628, 207600, 2724902]\n",
    "})\n",
    "\n",
    "population_density = countries_df['population']*1e6 / countries_df['square']\n",
    "display(population_density)\n",
    "print(round(population_density.mean(),2))"
   ]
  }
 ],
 "metadata": {
  "interpreter": {
   "hash": "38a009fc46ba37e6e5b78a47f860b401b800600d4e677e8458686ab4e3edc8e1"
  },
  "kernelspec": {
   "display_name": "Python 3.9.7 ('base')",
   "language": "python",
   "name": "python3"
  },
  "language_info": {
   "codemirror_mode": {
    "name": "ipython",
    "version": 3
   },
   "file_extension": ".py",
   "mimetype": "text/x-python",
   "name": "python",
   "nbconvert_exporter": "python",
   "pygments_lexer": "ipython3",
   "version": "3.9.7"
  },
  "orig_nbformat": 4
 },
 "nbformat": 4,
 "nbformat_minor": 2
}
