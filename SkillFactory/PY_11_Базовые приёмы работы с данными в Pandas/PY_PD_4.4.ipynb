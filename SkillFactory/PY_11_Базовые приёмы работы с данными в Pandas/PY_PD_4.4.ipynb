{
 "cells": [
  {
   "cell_type": "code",
   "execution_count": 1,
   "metadata": {},
   "outputs": [],
   "source": [
    "import pandas as pd"
   ]
  },
  {
   "cell_type": "markdown",
   "metadata": {},
   "source": [
    "# Задание 4.4 (выполняется в codeboard ниже)\n",
    "\n",
    "Представьте, что вы занимаетесь подготовкой данных о вакансиях с платформы hh.ru. В вашем распоряжении имеется таблица, в которой с помощью парсинга собраны резюме кандидатов. В этой таблице есть текстовый столбец «Опыт работы». Пример такого столбца представлен ниже в виде объекта Series. Структура текста в столбце фиксирована и не может измениться.\n",
    "\n",
    "Напишите функцию get_experience(arg), аргументом которой является строка столбца с опытом работы. Функция должна возвращать опыт работы в месяцах. Не забудьте привести результат к целому числу.\n",
    "\n",
    "Обратите внимание, что опыт работы может выражаться только в годах или только в месяцах. Учтите это при построении своей функции. Кроме того, учтите возможные вариации слов месяц (месяца, месяцев) и год (года, лет).\n",
    "\n",
    "Примените вашу функцию к Series experience_col с помощью метода apply().\n",
    "\n",
    "Пример результата работы функции get_experience:\n",
    "\n",
    "        'Опыт работы 8 лет 3 месяца',\n",
    "        'Опыт работы 3 года 5 месяцев',\n",
    "        'Опыт работы 1 год 9 месяцев',\n",
    "        'Опыт работы 3 месяца',\n",
    "        'Опыт работы 6 лет'\n",
    "\n",
    "→\n",
    "\n"
   ]
  },
  {
   "cell_type": "code",
   "execution_count": 6,
   "metadata": {},
   "outputs": [
    {
     "name": "stdout",
     "output_type": "stream",
     "text": [
      "0    99\n",
      "1    41\n",
      "2    21\n",
      "3     3\n",
      "4    72\n",
      "dtype: int64\n"
     ]
    }
   ],
   "source": [
    "def get_experience(arg):\n",
    "    \"\"\"\n",
    "    Напишите функцию get_experience(arg), аргументом которой является строка столбца с опытом работы. \n",
    "    Функция должна возвращать опыт работы в месяцах. Не забудьте привести результат к целому числу.\n",
    "    \"\"\"\n",
    "    months = ['месяц', 'месяца', 'месяцев']\n",
    "    years = ['год', 'года', 'лет']\n",
    "    year, month = 0, 0\n",
    "    exp = arg.split(' ')\n",
    "    for id, i in enumerate(exp):\n",
    "        if i in years:\n",
    "            year = exp[id-1]\n",
    "        if i in months:\n",
    "            month = exp[id-1]\n",
    "    return int(year)*12+int(month)\n",
    "\n",
    "if __name__ == '__main__':\n",
    "    experience_col = pd.Series([\n",
    "        'Опыт работы 8 лет 3 месяца',\n",
    "        'Опыт работы 3 года 5 месяцев',\n",
    "        'Опыт работы 1 год 9 месяцев',\n",
    "        'Опыт работы 3 месяца',\n",
    "        'Опыт работы 6 лет'\n",
    "        ])\n",
    "    experience_month = experience_col.apply(get_experience)\n",
    "    print(experience_month)\n"
   ]
  }
 ],
 "metadata": {
  "interpreter": {
   "hash": "38a009fc46ba37e6e5b78a47f860b401b800600d4e677e8458686ab4e3edc8e1"
  },
  "kernelspec": {
   "display_name": "Python 3.9.7 ('base')",
   "language": "python",
   "name": "python3"
  },
  "language_info": {
   "codemirror_mode": {
    "name": "ipython",
    "version": 3
   },
   "file_extension": ".py",
   "mimetype": "text/x-python",
   "name": "python",
   "nbconvert_exporter": "python",
   "pygments_lexer": "ipython3",
   "version": "3.9.7"
  },
  "orig_nbformat": 4
 },
 "nbformat": 4,
 "nbformat_minor": 2
}
